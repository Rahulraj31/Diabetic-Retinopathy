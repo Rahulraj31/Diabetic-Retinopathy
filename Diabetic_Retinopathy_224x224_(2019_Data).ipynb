{
  "nbformat": 4,
  "nbformat_minor": 0,
  "metadata": {
    "colab": {
      "name": "Diabetic Retinopathy 224x224 (2019 Data).ipynb",
      "provenance": [],
      "mount_file_id": "1fMzBLirtVhrsifDAvj5PxrQkrF1Hw9hs",
      "authorship_tag": "ABX9TyOv2UmzJ7Q/0+KZD7RJjTU7",
      "include_colab_link": true
    },
    "kernelspec": {
      "name": "python3",
      "display_name": "Python 3"
    },
    "language_info": {
      "name": "python"
    },
    "accelerator": "GPU"
  },
  "cells": [
    {
      "cell_type": "markdown",
      "metadata": {
        "id": "view-in-github",
        "colab_type": "text"
      },
      "source": [
        "<a href=\"https://colab.research.google.com/github/Rahulraj31/Diabetic-Retinopathy/blob/main/Diabetic_Retinopathy_224x224_(2019_Data).ipynb\" target=\"_parent\"><img src=\"https://colab.research.google.com/assets/colab-badge.svg\" alt=\"Open In Colab\"/></a>"
      ]
    },
    {
      "cell_type": "code",
      "metadata": {
        "id": "qfZzeXHluL9t"
      },
      "source": [
        "import zipfile\n",
        "\n",
        "local_zip = '/content/drive/MyDrive/Colab Notebooks/archive.zip'\n",
        "zip_ref = zipfile.ZipFile(local_zip, 'r')\n",
        "zip_ref.extractall('/content')\n",
        "zip_ref.close()"
      ],
      "execution_count": 1,
      "outputs": []
    },
    {
      "cell_type": "code",
      "metadata": {
        "id": "xPrZ5j_Jscmm"
      },
      "source": [
        "import PIL.Image as Image\n",
        "import cv2\n",
        "import numpy as np\n",
        "import pandas as pd\n",
        "\n",
        "import matplotlib.pylab as plt\n",
        "%matplotlib inline \n",
        "import tensorflow as tf\n",
        "from tensorflow import keras\n",
        "from tensorflow.keras import layers,losses\n",
        "from tensorflow.keras.layers import Input, Dense\n",
        "from tensorflow.keras import Model\n",
        "from tensorflow.keras.models import Sequential\n",
        "from keras.preprocessing.image import ImageDataGenerator"
      ],
      "execution_count": 2,
      "outputs": []
    },
    {
      "cell_type": "code",
      "metadata": {
        "colab": {
          "base_uri": "https://localhost:8080/",
          "height": 203
        },
        "id": "s8SBZcBVuTpO",
        "outputId": "6bde5ef3-fb0c-4551-8b29-1c028d66ddc2"
      },
      "source": [
        "df= pd.read_csv(\"/content/train.csv\")\n",
        "df.head()"
      ],
      "execution_count": 3,
      "outputs": [
        {
          "output_type": "execute_result",
          "data": {
            "text/html": [
              "<div>\n",
              "<style scoped>\n",
              "    .dataframe tbody tr th:only-of-type {\n",
              "        vertical-align: middle;\n",
              "    }\n",
              "\n",
              "    .dataframe tbody tr th {\n",
              "        vertical-align: top;\n",
              "    }\n",
              "\n",
              "    .dataframe thead th {\n",
              "        text-align: right;\n",
              "    }\n",
              "</style>\n",
              "<table border=\"1\" class=\"dataframe\">\n",
              "  <thead>\n",
              "    <tr style=\"text-align: right;\">\n",
              "      <th></th>\n",
              "      <th>id_code</th>\n",
              "      <th>diagnosis</th>\n",
              "    </tr>\n",
              "  </thead>\n",
              "  <tbody>\n",
              "    <tr>\n",
              "      <th>0</th>\n",
              "      <td>000c1434d8d7</td>\n",
              "      <td>2</td>\n",
              "    </tr>\n",
              "    <tr>\n",
              "      <th>1</th>\n",
              "      <td>001639a390f0</td>\n",
              "      <td>4</td>\n",
              "    </tr>\n",
              "    <tr>\n",
              "      <th>2</th>\n",
              "      <td>0024cdab0c1e</td>\n",
              "      <td>1</td>\n",
              "    </tr>\n",
              "    <tr>\n",
              "      <th>3</th>\n",
              "      <td>002c21358ce6</td>\n",
              "      <td>0</td>\n",
              "    </tr>\n",
              "    <tr>\n",
              "      <th>4</th>\n",
              "      <td>005b95c28852</td>\n",
              "      <td>0</td>\n",
              "    </tr>\n",
              "  </tbody>\n",
              "</table>\n",
              "</div>"
            ],
            "text/plain": [
              "        id_code  diagnosis\n",
              "0  000c1434d8d7          2\n",
              "1  001639a390f0          4\n",
              "2  0024cdab0c1e          1\n",
              "3  002c21358ce6          0\n",
              "4  005b95c28852          0"
            ]
          },
          "metadata": {
            "tags": []
          },
          "execution_count": 3
        }
      ]
    },
    {
      "cell_type": "markdown",
      "metadata": {
        "id": "Z5nTTjZVzqtk"
      },
      "source": [
        "0 - No_DR\n",
        "1 - Mild\n",
        "2 - Moderate\n",
        "3 - Severe\n",
        "4 - Proliferate_DR"
      ]
    },
    {
      "cell_type": "code",
      "metadata": {
        "id": "kXfd--fkwoTq"
      },
      "source": [
        "from pathlib import Path \n",
        "import os\n",
        "train_data_dir = Path('/content/colored_images')"
      ],
      "execution_count": 4,
      "outputs": []
    },
    {
      "cell_type": "code",
      "metadata": {
        "id": "o3t9gNIS_bWZ"
      },
      "source": [
        "train_images_dict = {\n",
        "    'Mild': list(train_data_dir.glob('Mild/*')) ,   \n",
        "    'Moderate': list(train_data_dir.glob('Moderate/*')),\n",
        "    'No_DR': list(train_data_dir.glob('No_DR/*')),\n",
        "    'Proliferate_DR': list(train_data_dir .glob('Proliferate_DR/*')),\n",
        "    'Severe': list(train_data_dir.glob('Severe/*')),\n",
        "}\n",
        "\n",
        "labels_dict = {\n",
        "     'Mild': 'mild' ,   \n",
        "    'Moderate':'moderate',\n",
        "    'No_DR': 'no_dr',\n",
        "    'Proliferate_DR':'proliferate_dr',\n",
        "    'Severe': 'sever',\n",
        "}"
      ],
      "execution_count": 5,
      "outputs": []
    },
    {
      "cell_type": "code",
      "metadata": {
        "colab": {
          "base_uri": "https://localhost:8080/"
        },
        "id": "gn-VEkaRJjHh",
        "outputId": "891f7f41-ba7d-4d29-f98d-26b6207889ba"
      },
      "source": [
        "img= cv2.imread(str(train_images_dict['Mild'][0]))\n",
        "img.shape"
      ],
      "execution_count": 6,
      "outputs": [
        {
          "output_type": "execute_result",
          "data": {
            "text/plain": [
              "(224, 224, 3)"
            ]
          },
          "metadata": {
            "tags": []
          },
          "execution_count": 6
        }
      ]
    },
    {
      "cell_type": "code",
      "metadata": {
        "id": "E68qAPg0N0Z4"
      },
      "source": [
        "X, y = [], []\n",
        "for name,images in train_images_dict.items():#returns key , path for each record\n",
        "    for image in images:\n",
        "        img=str(image)\n",
        "\n",
        "        X.append(img)\n",
        "        y.append(labels_dict[name])"
      ],
      "execution_count": 7,
      "outputs": []
    },
    {
      "cell_type": "code",
      "metadata": {
        "colab": {
          "base_uri": "https://localhost:8080/"
        },
        "id": "DKTVHlj3WExt",
        "outputId": "ad689976-c264-4985-a432-4f95adf7d1be"
      },
      "source": [
        "Fseries = pd.Series(X, name=\"filepaths\",dtype=str)\n",
        "Lseries = pd.Series(y, name=\"labels\",dtype=str)\n",
        "data = pd.concat([Fseries,Lseries], axis=1)\n",
        "dr_df = pd.DataFrame(data)\n",
        "\n",
        "print(dr_df.head())\n",
        "print(\"---------------------\")\n",
        "print(dr_df[\"labels\"].value_counts())\n"
      ],
      "execution_count": 8,
      "outputs": [
        {
          "output_type": "stream",
          "text": [
            "                                       filepaths labels\n",
            "0  /content/colored_images/Mild/1d11794057ff.png   mild\n",
            "1  /content/colored_images/Mild/bacfb1029f6b.png   mild\n",
            "2  /content/colored_images/Mild/7ccb267fd394.png   mild\n",
            "3  /content/colored_images/Mild/0a3202889f4d.png   mild\n",
            "4  /content/colored_images/Mild/33ffddea8c6e.png   mild\n",
            "---------------------\n",
            "no_dr             1805\n",
            "moderate           999\n",
            "mild               370\n",
            "proliferate_dr     295\n",
            "sever              193\n",
            "Name: labels, dtype: int64\n"
          ],
          "name": "stdout"
        }
      ]
    },
    {
      "cell_type": "code",
      "metadata": {
        "id": "9Nhr0s31WucE",
        "colab": {
          "base_uri": "https://localhost:8080/"
        },
        "outputId": "0b27e70a-35a1-4eeb-adbd-8fed1a2bc7bc"
      },
      "source": [
        "val_image_gen = ImageDataGenerator(rescale=1.0/255)\n",
        "\n",
        "train_image_gen = ImageDataGenerator(rescale            = 1/255,\n",
        "                                   shear_range        = 0.2,\n",
        "                                   zoom_range         = 0.2,\n",
        "                                   horizontal_flip    = True,\n",
        "                                   rotation_range     = 40,\n",
        "                                   width_shift_range  = 0.2,\n",
        "                                   height_shift_range = 0.2)\n",
        "\n",
        "train = train_image_gen.flow_from_dataframe(dataframe= dr_df,x_col=\"filepaths\",y_col=\"labels\",\n",
        "                                      target_size=(224,224),\n",
        "                                      color_mode='rgb',\n",
        "                                      class_mode=\"categorical\",\n",
        "                                      batch_size=4,\n",
        "                                      shuffle=False,\n",
        "                                      subset=\"training\",\n",
        "                         \n",
        "                                     )\n",
        "\n",
        "val = val_image_gen.flow_from_dataframe(dataframe= dr_df,x_col=\"filepaths\",y_col=\"labels\",\n",
        "                                       target_size=(224,224),\n",
        "                                      color_mode='rgb',\n",
        "                                      class_mode=\"categorical\",\n",
        "                                      batch_size=2,\n",
        "                                      subset=\"validation\",\n",
        "                                      shuffle=False          \n",
        "                                     )\n"
      ],
      "execution_count": 9,
      "outputs": [
        {
          "output_type": "stream",
          "text": [
            "Found 2930 validated image filenames belonging to 5 classes.\n",
            "Found 732 validated image filenames belonging to 5 classes.\n"
          ],
          "name": "stdout"
        }
      ]
    },
    {
      "cell_type": "code",
      "metadata": {
        "colab": {
          "base_uri": "https://localhost:8080/"
        },
        "id": "m-rvu2C0YeCd",
        "outputId": "679d08fe-7fa8-4d15-ef1b-7ccd4f8ae6dd"
      },
      "source": [
        "classes=list(train.class_indices.keys())\n",
        "print (classes)"
      ],
      "execution_count": 10,
      "outputs": [
        {
          "output_type": "stream",
          "text": [
            "['mild', 'moderate', 'no_dr', 'proliferate_dr', 'sever']\n"
          ],
          "name": "stdout"
        }
      ]
    },
    {
      "cell_type": "code",
      "metadata": {
        "id": "WSJG8qncSKHF"
      },
      "source": [
        "from tensorflow.keras.applications import VGG16\n",
        "\n",
        "cnn_base = VGG16(include_top = False,\n",
        "                 weights = \"imagenet\",\n",
        "                 input_shape = (224, 224, 3),\n",
        "                 classes = 5,\n",
        "                 pooling=\"max\",\n",
        "                 classifier_activation = 'softmax')\n",
        "\n",
        "cnn_base.trainable = False"
      ],
      "execution_count": 11,
      "outputs": []
    },
    {
      "cell_type": "code",
      "metadata": {
        "id": "xpunetKOY9gz"
      },
      "source": [
        "pretrainedCNN_model = Sequential([\n",
        "                                  cnn_base,\n",
        "                                  layers.Flatten(),\n",
        "                                  layers.Dense(1000, activation = 'relu'),\n",
        "                                 \n",
        "                                  layers.Dense(500, activation = 'relu'),\n",
        "                                   layers.Dropout(0.25),\n",
        "                                  layers.Dense(100, activation = 'relu'),\n",
        "                                  layers.Dense(5, activation = 'softmax')  ,  \n",
        "])"
      ],
      "execution_count": 12,
      "outputs": []
    },
    {
      "cell_type": "code",
      "metadata": {
        "id": "lP_OeN13aDx7"
      },
      "source": [
        "pretrainedCNN_model.compile(optimizer=\"adam\", loss=\"categorical_crossentropy\", metrics=[\"accuracy\"])"
      ],
      "execution_count": 13,
      "outputs": []
    },
    {
      "cell_type": "code",
      "metadata": {
        "colab": {
          "base_uri": "https://localhost:8080/"
        },
        "id": "8VVi_Mw3aIeL",
        "outputId": "ab0a8570-5e32-4bf8-9a57-4b160718e6ec"
      },
      "source": [
        "pretrainedCNN_model.summary()"
      ],
      "execution_count": 14,
      "outputs": [
        {
          "output_type": "stream",
          "text": [
            "Model: \"sequential\"\n",
            "_________________________________________________________________\n",
            "Layer (type)                 Output Shape              Param #   \n",
            "=================================================================\n",
            "vgg16 (Functional)           (None, 512)               14714688  \n",
            "_________________________________________________________________\n",
            "flatten (Flatten)            (None, 512)               0         \n",
            "_________________________________________________________________\n",
            "dense (Dense)                (None, 1000)              513000    \n",
            "_________________________________________________________________\n",
            "dense_1 (Dense)              (None, 500)               500500    \n",
            "_________________________________________________________________\n",
            "dropout (Dropout)            (None, 500)               0         \n",
            "_________________________________________________________________\n",
            "dense_2 (Dense)              (None, 100)               50100     \n",
            "_________________________________________________________________\n",
            "dense_3 (Dense)              (None, 5)                 505       \n",
            "=================================================================\n",
            "Total params: 15,778,793\n",
            "Trainable params: 1,064,105\n",
            "Non-trainable params: 14,714,688\n",
            "_________________________________________________________________\n"
          ],
          "name": "stdout"
        }
      ]
    },
    {
      "cell_type": "code",
      "metadata": {
        "colab": {
          "base_uri": "https://localhost:8080/"
        },
        "id": "vhbvh4Q0aMZM",
        "outputId": "28645b37-95f3-488d-ef31-df99bf1d9204"
      },
      "source": [
        "History = pretrainedCNN_model.fit(train, validation_data=val, epochs=10,verbose=1,\n",
        "                                  )"
      ],
      "execution_count": 15,
      "outputs": [
        {
          "output_type": "stream",
          "text": [
            "Epoch 1/10\n",
            "733/733 [==============================] - 36s 40ms/step - loss: 2.0678 - accuracy: 0.6990 - val_loss: 4.6136 - val_accuracy: 0.4262\n",
            "Epoch 2/10\n",
            "733/733 [==============================] - 27s 37ms/step - loss: 0.5816 - accuracy: 0.7747 - val_loss: 5.3372 - val_accuracy: 0.1708\n",
            "Epoch 3/10\n",
            "733/733 [==============================] - 27s 37ms/step - loss: 0.5402 - accuracy: 0.7850 - val_loss: 7.5513 - val_accuracy: 0.0642\n",
            "Epoch 4/10\n",
            "733/733 [==============================] - 27s 37ms/step - loss: 0.4821 - accuracy: 0.7939 - val_loss: 10.9473 - val_accuracy: 0.4590\n",
            "Epoch 5/10\n",
            "733/733 [==============================] - 27s 37ms/step - loss: 0.5347 - accuracy: 0.7874 - val_loss: 12.8822 - val_accuracy: 0.4781\n",
            "Epoch 6/10\n",
            "733/733 [==============================] - 27s 37ms/step - loss: 0.4633 - accuracy: 0.8068 - val_loss: 14.0304 - val_accuracy: 0.4249\n",
            "Epoch 7/10\n",
            "733/733 [==============================] - 27s 37ms/step - loss: 0.4900 - accuracy: 0.7973 - val_loss: 15.8247 - val_accuracy: 0.4208\n",
            "Epoch 8/10\n",
            "733/733 [==============================] - 27s 37ms/step - loss: 0.4308 - accuracy: 0.8188 - val_loss: 10.6402 - val_accuracy: 0.4385\n",
            "Epoch 9/10\n",
            "733/733 [==============================] - 27s 37ms/step - loss: 0.4234 - accuracy: 0.8218 - val_loss: 12.3283 - val_accuracy: 0.3689\n",
            "Epoch 10/10\n",
            "733/733 [==============================] - 28s 38ms/step - loss: 0.4074 - accuracy: 0.8222 - val_loss: 11.3670 - val_accuracy: 0.4604\n"
          ],
          "name": "stdout"
        }
      ]
    },
    {
      "cell_type": "code",
      "metadata": {
        "id": "g1Q4lDGsa-tM",
        "colab": {
          "base_uri": "https://localhost:8080/",
          "height": 573
        },
        "outputId": "7897a995-503f-4150-8897-372c961acaae"
      },
      "source": [
        "# plot the loss\n",
        "plt.plot(History.history['loss'])\n",
        "plt.plot(History.history['val_loss'])\n",
        "plt.title('Model Loss')\n",
        "plt.ylabel('loss')\n",
        "plt.xlabel('epoch')\n",
        "plt.legend(['train', 'val'], loc='upper right')\n",
        "plt.show()\n",
        "\n",
        "# plot the accuracy\n",
        "plt.plot(History.history['accuracy'])\n",
        "plt.plot(History.history['val_accuracy'])\n",
        "plt.title('Model accuracy')\n",
        "plt.ylabel('accuracy')\n",
        "plt.xlabel('epoch')\n",
        "plt.legend(['train', 'val'], loc='lower right')\n",
        "plt.show()"
      ],
      "execution_count": 16,
      "outputs": [
        {
          "output_type": "display_data",
          "data": {
            "image/png": "[encoded data removed]",
            "text/plain": [
              "<Figure size 432x288 with 1 Axes>"
            ]
          },
          "metadata": {
            "tags": [],
            "needs_background": "light"
          }
        },
        {
          "output_type": "display_data",
          "data": {
            "image/png": "[encoded data removed]",
            "text/plain": [
              "<Figure size 432x288 with 1 Axes>"
            ]
          },
          "metadata": {
            "tags": [],
            "needs_background": "light"
          }
        }
      ]
    },
    {
      "cell_type": "code",
      "metadata": {
        "id": "lUjHKNaxZNq_"
      },
      "source": [
        ""
      ],
      "execution_count": null,
      "outputs": []
    }
  ]
}
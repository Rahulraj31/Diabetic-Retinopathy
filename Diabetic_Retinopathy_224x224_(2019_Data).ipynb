{
  "nbformat": 4,
  "nbformat_minor": 0,
  "metadata": {
    "colab": {
      "name": "Diabetic Retinopathy 224x224 (2019 Data).ipynb",
      "provenance": [],
      "mount_file_id": "1fMzBLirtVhrsifDAvj5PxrQkrF1Hw9hs",
      "authorship_tag": "ABX9TyNCkJuyENyo7WXjNu5oVFIn",
      "include_colab_link": true
    },
    "kernelspec": {
      "name": "python3",
      "display_name": "Python 3"
    },
    "language_info": {
      "name": "python"
    },
    "accelerator": "GPU"
  },
  "cells": [
    {
      "cell_type": "markdown",
      "metadata": {
        "id": "view-in-github",
        "colab_type": "text"
      },
      "source": [
        "<a href=\"https://colab.research.google.com/github/Rahulraj31/Diabetic-Retinopathy/blob/main/Diabetic_Retinopathy_224x224_(2019_Data).ipynb\" target=\"_parent\"><img src=\"https://colab.research.google.com/assets/colab-badge.svg\" alt=\"Open In Colab\"/></a>"
      ]
    },
    {
      "cell_type": "code",
      "metadata": {
        "id": "qfZzeXHluL9t"
      },
      "source": [
        "import zipfile\n",
        "\n",
        "local_zip = '/content/drive/MyDrive/Colab Notebooks/archive.zip'\n",
        "zip_ref = zipfile.ZipFile(local_zip, 'r')\n",
        "zip_ref.extractall('/content')\n",
        "zip_ref.close()"
      ],
      "execution_count": null,
      "outputs": []
    },
    {
      "cell_type": "code",
      "metadata": {
        "id": "xPrZ5j_Jscmm"
      },
      "source": [
        "import PIL.Image as Image\n",
        "import cv2\n",
        "import numpy as np\n",
        "import pandas as pd\n",
        "\n",
        "import matplotlib.pylab as plt\n",
        "%matplotlib inline \n",
        "import tensorflow as tf\n",
        "from tensorflow import keras\n",
        "from tensorflow.keras import layers,losses\n",
        "from tensorflow.keras.models import Sequential\n",
        "from keras.preprocessing.image import ImageDataGenerator"
      ],
      "execution_count": 50,
      "outputs": []
    },
    {
      "cell_type": "code",
      "metadata": {
        "colab": {
          "base_uri": "https://localhost:8080/",
          "height": 203
        },
        "id": "s8SBZcBVuTpO",
        "outputId": "4afc81e3-5834-482f-ae5f-1e1c1deb822e"
      },
      "source": [
        "df= pd.read_csv(\"/content/train.csv\")\n",
        "df.head()"
      ],
      "execution_count": null,
      "outputs": [
        {
          "output_type": "execute_result",
          "data": {
            "text/html": [
              "<div>\n",
              "<style scoped>\n",
              "    .dataframe tbody tr th:only-of-type {\n",
              "        vertical-align: middle;\n",
              "    }\n",
              "\n",
              "    .dataframe tbody tr th {\n",
              "        vertical-align: top;\n",
              "    }\n",
              "\n",
              "    .dataframe thead th {\n",
              "        text-align: right;\n",
              "    }\n",
              "</style>\n",
              "<table border=\"1\" class=\"dataframe\">\n",
              "  <thead>\n",
              "    <tr style=\"text-align: right;\">\n",
              "      <th></th>\n",
              "      <th>id_code</th>\n",
              "      <th>diagnosis</th>\n",
              "    </tr>\n",
              "  </thead>\n",
              "  <tbody>\n",
              "    <tr>\n",
              "      <th>0</th>\n",
              "      <td>000c1434d8d7</td>\n",
              "      <td>2</td>\n",
              "    </tr>\n",
              "    <tr>\n",
              "      <th>1</th>\n",
              "      <td>001639a390f0</td>\n",
              "      <td>4</td>\n",
              "    </tr>\n",
              "    <tr>\n",
              "      <th>2</th>\n",
              "      <td>0024cdab0c1e</td>\n",
              "      <td>1</td>\n",
              "    </tr>\n",
              "    <tr>\n",
              "      <th>3</th>\n",
              "      <td>002c21358ce6</td>\n",
              "      <td>0</td>\n",
              "    </tr>\n",
              "    <tr>\n",
              "      <th>4</th>\n",
              "      <td>005b95c28852</td>\n",
              "      <td>0</td>\n",
              "    </tr>\n",
              "  </tbody>\n",
              "</table>\n",
              "</div>"
            ],
            "text/plain": [
              "        id_code  diagnosis\n",
              "0  000c1434d8d7          2\n",
              "1  001639a390f0          4\n",
              "2  0024cdab0c1e          1\n",
              "3  002c21358ce6          0\n",
              "4  005b95c28852          0"
            ]
          },
          "metadata": {
            "tags": []
          },
          "execution_count": 4
        }
      ]
    },
    {
      "cell_type": "markdown",
      "metadata": {
        "id": "Z5nTTjZVzqtk"
      },
      "source": [
        "0 - No_DR\n",
        "1 - Mild\n",
        "2 - Moderate\n",
        "3 - Severe\n",
        "4 - Proliferate_DR"
      ]
    },
    {
      "cell_type": "code",
      "metadata": {
        "id": "kXfd--fkwoTq"
      },
      "source": [
        "from pathlib import Path \n",
        "import os\n",
        "train_data_dir = Path('/content/colored_images')"
      ],
      "execution_count": null,
      "outputs": []
    },
    {
      "cell_type": "code",
      "metadata": {
        "id": "o3t9gNIS_bWZ"
      },
      "source": [
        "train_images_dict = {\n",
        "    'Mild': list(train_data_dir.glob('Mild/*')) ,   \n",
        "    'Moderate': list(train_data_dir.glob('Moderate/*')),\n",
        "    'No_DR': list(train_data_dir.glob('No_DR/*')),\n",
        "    'Proliferate_DR': list(train_data_dir .glob('Proliferate_DR/*')),\n",
        "    'Severe': list(train_data_dir.glob('Severe/*')),\n",
        "}\n",
        "\n",
        "labels_dict = {\n",
        "     'Mild': 'mild' ,   \n",
        "    'Moderate':'moderate',\n",
        "    'No_DR': 'no_dr',\n",
        "    'Proliferate_DR':'proliferate_dr',\n",
        "    'Severe': 'sever',\n",
        "}"
      ],
      "execution_count": null,
      "outputs": []
    },
    {
      "cell_type": "code",
      "metadata": {
        "colab": {
          "base_uri": "https://localhost:8080/"
        },
        "id": "gn-VEkaRJjHh",
        "outputId": "bdf25ca6-ad1d-4be4-f72e-b6b102be787d"
      },
      "source": [
        "img= cv2.imread(str(train_images_dict['Mild'][0]))\n",
        "img.shape"
      ],
      "execution_count": null,
      "outputs": [
        {
          "output_type": "execute_result",
          "data": {
            "text/plain": [
              "(224, 224, 3)"
            ]
          },
          "metadata": {
            "tags": []
          },
          "execution_count": 13
        }
      ]
    },
    {
      "cell_type": "code",
      "metadata": {
        "id": "E68qAPg0N0Z4"
      },
      "source": [
        "X, y = [], []\n",
        "for name,images in train_images_dict.items():#returns key , path for each record\n",
        "    for image in images:\n",
        "        img=str(image)\n",
        "\n",
        "        X.append(img)\n",
        "        y.append(labels_dict[name])"
      ],
      "execution_count": null,
      "outputs": []
    },
    {
      "cell_type": "code",
      "metadata": {
        "colab": {
          "base_uri": "https://localhost:8080/"
        },
        "id": "DKTVHlj3WExt",
        "outputId": "d356be99-3a15-4db1-f88e-ef5954a7076a"
      },
      "source": [
        "Fseries = pd.Series(X, name=\"filepaths\",dtype=str)\n",
        "Lseries = pd.Series(y, name=\"labels\",dtype=str)\n",
        "data = pd.concat([Fseries,Lseries], axis=1)\n",
        "dr_df = pd.DataFrame(data)\n",
        "\n",
        "print(dr_df.head())\n",
        "print(\"---------------------\")\n",
        "print(dr_df[\"labels\"].value_counts())\n"
      ],
      "execution_count": null,
      "outputs": [
        {
          "output_type": "stream",
          "text": [
            "                                       filepaths labels\n",
            "0  /content/colored_images/Mild/5777ef74c9ec.png   mild\n",
            "1  /content/colored_images/Mild/a28bfb772f50.png   mild\n",
            "2  /content/colored_images/Mild/5cab3ef4b31c.png   mild\n",
            "3  /content/colored_images/Mild/5633ced07d8e.png   mild\n",
            "4  /content/colored_images/Mild/9782c0489eca.png   mild\n",
            "---------------------\n",
            "no_dr             1805\n",
            "moderate           999\n",
            "mild               370\n",
            "proliferate_dr     295\n",
            "sever              193\n",
            "Name: labels, dtype: int64\n"
          ],
          "name": "stdout"
        }
      ]
    },
    {
      "cell_type": "code",
      "metadata": {
        "id": "9Nhr0s31WucE",
        "colab": {
          "base_uri": "https://localhost:8080/"
        },
        "outputId": "5fdf707a-c8e0-4837-c1e3-130a1438fe85"
      },
      "source": [
        "image_gen = ImageDataGenerator(rescale=1.00/255,validation_split=0.2,vertical_flip=True\n",
        "                               )\n",
        "\n",
        "train = image_gen.flow_from_dataframe(dataframe= dr_df,x_col=\"filepaths\",y_col=\"labels\",\n",
        "                                      target_size=(224,224),\n",
        "                                      color_mode='rgb',\n",
        "                                      class_mode=\"categorical\",\n",
        "                                      batch_size=8,\n",
        "                                      shuffle=False,\n",
        "                                      subset=\"training\",\n",
        "                         \n",
        "                                     )\n",
        "\n",
        "val = image_gen.flow_from_dataframe(dataframe= dr_df,x_col=\"filepaths\",y_col=\"labels\",\n",
        "                                       target_size=(224,224),\n",
        "                                      color_mode='rgb',\n",
        "                                      class_mode=\"categorical\",\n",
        "                                      batch_size=8,\n",
        "                                      subset=\"validation\",\n",
        "                                      shuffle=False          \n",
        "                                     )\n"
      ],
      "execution_count": 83,
      "outputs": [
        {
          "output_type": "stream",
          "text": [
            "Found 2930 validated image filenames belonging to 5 classes.\n",
            "Found 732 validated image filenames belonging to 5 classes.\n"
          ],
          "name": "stdout"
        }
      ]
    },
    {
      "cell_type": "code",
      "metadata": {
        "colab": {
          "base_uri": "https://localhost:8080/"
        },
        "id": "m-rvu2C0YeCd",
        "outputId": "5842df2f-01ef-4e38-8343-54629bceeb42"
      },
      "source": [
        "classes=list(train.class_indices.keys())\n",
        "print (classes)"
      ],
      "execution_count": 84,
      "outputs": [
        {
          "output_type": "stream",
          "text": [
            "['mild', 'moderate', 'no_dr', 'proliferate_dr', 'sever']\n"
          ],
          "name": "stdout"
        }
      ]
    },
    {
      "cell_type": "code",
      "metadata": {
        "id": "Wgt7IRV7Yvgc"
      },
      "source": [
        "from tensorflow.keras.applications import VGG16\n",
        "\n",
        "cnn_base = VGG16(include_top = False,\n",
        "                 weights = 'imagenet',\n",
        "                 input_shape = (224, 224, 3),\n",
        "                 classes = 5,\n",
        "                 classifier_activation = 'softmax')\n",
        "\n",
        "cnn_base.trainable = False"
      ],
      "execution_count": 85,
      "outputs": []
    },
    {
      "cell_type": "code",
      "metadata": {
        "id": "xpunetKOY9gz"
      },
      "source": [
        "pretrainedCNN_model = Sequential([\n",
        "                                     cnn_base,\n",
        "                                  layers.Flatten(),\n",
        "                                  layers.Dense(1000, activation = 'relu'),\n",
        "                                  layers.Dropout(0.25),\n",
        "                                  layers.Dense(500, activation = 'relu'),\n",
        "                                  layers.Dense(100, activation = 'relu'),\n",
        "                                  layers.Dense(5, activation = 'softmax')  ,  \n",
        "])"
      ],
      "execution_count": 86,
      "outputs": []
    },
    {
      "cell_type": "code",
      "metadata": {
        "id": "lP_OeN13aDx7"
      },
      "source": [
        "pretrainedCNN_model.compile(optimizer=\"adam\", loss=\"categorical_crossentropy\", metrics=[\"accuracy\"])"
      ],
      "execution_count": 87,
      "outputs": []
    },
    {
      "cell_type": "code",
      "metadata": {
        "colab": {
          "base_uri": "https://localhost:8080/"
        },
        "id": "8VVi_Mw3aIeL",
        "outputId": "7b9a780f-c608-45b3-9fd8-7c7e043c22b1"
      },
      "source": [
        "pretrainedCNN_model.summary()"
      ],
      "execution_count": 88,
      "outputs": [
        {
          "output_type": "stream",
          "text": [
            "Model: \"sequential_6\"\n",
            "_________________________________________________________________\n",
            "Layer (type)                 Output Shape              Param #   \n",
            "=================================================================\n",
            "vgg16 (Functional)           (None, 7, 7, 512)         14714688  \n",
            "_________________________________________________________________\n",
            "flatten_5 (Flatten)          (None, 25088)             0         \n",
            "_________________________________________________________________\n",
            "dense_15 (Dense)             (None, 1000)              25089000  \n",
            "_________________________________________________________________\n",
            "dropout_5 (Dropout)          (None, 1000)              0         \n",
            "_________________________________________________________________\n",
            "dense_16 (Dense)             (None, 500)               500500    \n",
            "_________________________________________________________________\n",
            "dense_17 (Dense)             (None, 100)               50100     \n",
            "_________________________________________________________________\n",
            "dense_18 (Dense)             (None, 5)                 505       \n",
            "=================================================================\n",
            "Total params: 40,354,793\n",
            "Trainable params: 25,640,105\n",
            "Non-trainable params: 14,714,688\n",
            "_________________________________________________________________\n"
          ],
          "name": "stdout"
        }
      ]
    },
    {
      "cell_type": "code",
      "metadata": {
        "colab": {
          "base_uri": "https://localhost:8080/"
        },
        "id": "vhbvh4Q0aMZM",
        "outputId": "16952d73-9f9a-405d-91e8-60bd363e6f88"
      },
      "source": [
        "History = pretrainedCNN_model.fit(train, validation_data=val, epochs=10,verbose=1,\n",
        "                                  )"
      ],
      "execution_count": 89,
      "outputs": [
        {
          "output_type": "stream",
          "text": [
            "Epoch 1/10\n",
            "367/367 [==============================] - 26s 68ms/step - loss: 1.2084 - accuracy: 0.6843 - val_loss: 5.5113 - val_accuracy: 0.4604\n",
            "Epoch 2/10\n",
            "367/367 [==============================] - 25s 69ms/step - loss: 0.6806 - accuracy: 0.7645 - val_loss: 6.3535 - val_accuracy: 0.4399\n",
            "Epoch 3/10\n",
            "367/367 [==============================] - 25s 67ms/step - loss: 0.6025 - accuracy: 0.7782 - val_loss: 3.6398 - val_accuracy: 0.4522\n",
            "Epoch 4/10\n",
            "367/367 [==============================] - 25s 67ms/step - loss: 0.5690 - accuracy: 0.7863 - val_loss: 6.2038 - val_accuracy: 0.4249\n",
            "Epoch 5/10\n",
            "367/367 [==============================] - 25s 67ms/step - loss: 0.5665 - accuracy: 0.7843 - val_loss: 5.3962 - val_accuracy: 0.4686\n",
            "Epoch 6/10\n",
            "367/367 [==============================] - 25s 68ms/step - loss: 0.5562 - accuracy: 0.7863 - val_loss: 5.4252 - val_accuracy: 0.4672\n",
            "Epoch 7/10\n",
            "367/367 [==============================] - 25s 67ms/step - loss: 0.5478 - accuracy: 0.7805 - val_loss: 5.5310 - val_accuracy: 0.4631\n",
            "Epoch 8/10\n",
            "367/367 [==============================] - 25s 67ms/step - loss: 0.5275 - accuracy: 0.7976 - val_loss: 7.1385 - val_accuracy: 0.3934\n",
            "Epoch 9/10\n",
            "367/367 [==============================] - 25s 67ms/step - loss: 0.5372 - accuracy: 0.7922 - val_loss: 4.1998 - val_accuracy: 0.4426\n",
            "Epoch 10/10\n",
            "367/367 [==============================] - 25s 67ms/step - loss: 0.5207 - accuracy: 0.7993 - val_loss: 6.2750 - val_accuracy: 0.4426\n"
          ],
          "name": "stdout"
        }
      ]
    },
    {
      "cell_type": "code",
      "metadata": {
        "id": "g1Q4lDGsa-tM"
      },
      "source": [
        ""
      ],
      "execution_count": 89,
      "outputs": []
    }
  ]
}